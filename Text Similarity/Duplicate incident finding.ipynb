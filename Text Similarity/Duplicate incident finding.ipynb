{
 "cells": [
  {
   "cell_type": "code",
   "execution_count": 1,
   "metadata": {},
   "outputs": [],
   "source": [
    "import datetime\n",
    "import pickle\n",
    "import pandas as pd\n",
    "import re\n",
    "from nltk.corpus import stopwords\n",
    "from nltk.stem import WordNetLemmatizer\n",
    "from nltk.tokenize import word_tokenize\n",
    "\n",
    "from sklearn.feature_extraction.text import TfidfVectorizer\n",
    "from sklearn.metrics.pairwise import linear_kernel,cosine_similarity\n",
    "stops = set(stopwords.words(\"english\"))"
   ]
  },
  {
   "cell_type": "code",
   "execution_count": 15,
   "metadata": {},
   "outputs": [],
   "source": [
    "def get_data():\n",
    "    raw = [\n",
    "        {\"Title\":\"Python\",\n",
    "            \"Body\": \"Python is interpreter languange\"\n",
    "            },\n",
    "            {\"Title\":\"Trump\",\n",
    "          \"Body\":\"Mr. Trump became president after winning the political election. Though he lost the support of some republican friends, Trump is friends with President Putin\"\n",
    "        },\n",
    "        {\"Title\":\"Python\",\n",
    "            \"Body\": \"Python is interpreter as well as scripting languange\"\n",
    "            },\n",
    "        {\"Title\":\"Tatya\",\n",
    "            \"Body\": \"President Trump says Putin had no political interference is the election outcome. He says it was a witchhunt by political parties. He claimed President Putin is a friend who had nothing to do with the election\"\n",
    "        },\n",
    "        {\"Title\":\"Java\",\n",
    "            \"Body\": \"Java is compiler language\"\n",
    "        },\n",
    "        {\"Title\":\"C\",\n",
    "            \"Body\": \"C is compiler Languange\"\n",
    "        },\n",
    "\n",
    "          ]\n",
    "    df = pd.DataFrame(raw)\n",
    "    df['Id'] =[i for i in range(len(raw))]\n",
    "\n",
    "    # tickets_corpus = df.T.to_dict().values()\n",
    "    tickets_corpus = df.to_dict('records')\n",
    "    return tickets_corpus"
   ]
  },
  {
   "cell_type": "code",
   "execution_count": 16,
   "metadata": {},
   "outputs": [
    {
     "name": "stdout",
     "output_type": "stream",
     "text": [
      "python python interpreter languange\n",
      "trump mr. trump became president winning political election . though lost support republican friends , trump friends president putin\n",
      "python python interpreter well scripting languange\n",
      "tatya president trump says putin political interference election outcome . he says witchhunt political parties . he claimed president putin friend nothing election\n",
      "java java compiler language\n",
      "c c compiler languange\n"
     ]
    }
   ],
   "source": [
    "word_lem = WordNetLemmatizer()\n",
    "def clean_document(document_of_words):\n",
    "    document_of_words = word_tokenize(document_of_words)\n",
    "    # remove stop words\n",
    "    document_of_words = [w.lower() for w in document_of_words if not w in stops]\n",
    "    \n",
    "    # stem each word\n",
    "    # stemmed_words = [word_lem.lemmatize(word) for word in document_of_words]\n",
    "     \n",
    "    return ' '.join(document_of_words)\n",
    "\n",
    "tickets_corpus = get_data()\n",
    "for ticket_dict in tickets_corpus:\n",
    "    word = clean_document((str(ticket_dict['Title'])+\" \"+str(ticket_dict['Body'])))\n",
    "    print(word)"
   ]
  },
  {
   "cell_type": "code",
   "execution_count": 17,
   "metadata": {},
   "outputs": [],
   "source": [
    "# NOTE : Currently only picks title and summary as relevant data from a ticket.\n",
    "def extract_clean_documents_from_corpus(tickets_corpus):\n",
    "    print(\"Extracting and Cleaning documents...\")\n",
    "    final_corpus = []\n",
    "    list_of_docs = []\n",
    "    i = 0\n",
    "    for ticket_dict in tickets_corpus:\n",
    "        # print(ticket_dict)\n",
    "        document_of_words = (str(ticket_dict['Title'])+\" \"+str(ticket_dict['Body']))\n",
    "        #print(document_of_words)\n",
    "        doc_cleaned_text = clean_document(document_of_words)\n",
    "        # print(doc_cleaned_text)\n",
    "        list_of_docs.append(doc_cleaned_text)\n",
    "        final_corpus.append({'que_id':ticket_dict['Id'], 'words':doc_cleaned_text, 'index':i})\n",
    "        i+=1\n",
    "    return list_of_docs,final_corpus\n"
   ]
  },
  {
   "cell_type": "code",
   "execution_count": 18,
   "metadata": {},
   "outputs": [],
   "source": [
    "def save_tfidf_model(tickets_corpus, output_file_name_without_extn=\"stack_model1\"):\n",
    "    tfidf_model = TfidfVectorizer()\n",
    "    list_of_docs,training_ticket_corpus = extract_clean_documents_from_corpus(tickets_corpus)\n",
    "    tfidf_trainingset = tfidf_model.fit_transform(list_of_docs)\n",
    "    trained_model_and_data_dict = {'model':tfidf_model, 'trained_data':tfidf_trainingset, 'corpus':training_ticket_corpus}\n",
    "    model_name_with_path = output_file_name_without_extn+\".pickle\"\n",
    "    pickle.dump(trained_model_and_data_dict, open(model_name_with_path, \"wb\"))\n",
    "    \n",
    "    return model_name_with_path"
   ]
  },
  {
   "cell_type": "code",
   "execution_count": 19,
   "metadata": {},
   "outputs": [],
   "source": [
    "def load_model(model_file_path):\n",
    "    with open(model_file_path, 'rb') as pickled_file:\n",
    "        loaded_model_data = pickle.load(pickled_file)\n",
    "    return loaded_model_data['model'],loaded_model_data['trained_data'],loaded_model_data['corpus']"
   ]
  },
  {
   "cell_type": "code",
   "execution_count": 24,
   "metadata": {},
   "outputs": [],
   "source": [
    "def find_similar_tickets(num_of_related_tickets_to_return, input_tickets_corpus, model_file_path):\n",
    "    model, trained_data_vector, trained_data_corpus = load_model(model_file_path)\n",
    "#     print(\"trained corpus\",len(trained_data_corpus))\n",
    "    related_tickets_data = []\n",
    "    for ticket in input_tickets_corpus:\n",
    "        ticket_data = ticket['Title']\n",
    "        if ticket['Body'] is not None:\n",
    "            ticket_data += ticket['Body']\n",
    "        \n",
    "        # Clean the unwanted data\n",
    "        ticket_data = clean_document(ticket_data)\n",
    "        \n",
    "        # transform tickets data into vector\n",
    "        test_data_vector = model.transform([ticket_data])\n",
    "        \n",
    "        # Find the similarity using Cosine Kernel\n",
    "        cosine_similarities = cosine_similarity(test_data_vector, trained_data_vector).flatten()\n",
    "        related_ticket_indices = cosine_similarities.argsort()[:-num_of_related_tickets_to_return-1:-1]\n",
    "#         print(len(related_ticket_indices))\n",
    "        \n",
    "        \n",
    "        related_tickets_dict = {}\n",
    "        related_tickets_dict['que_id'] = ticket['Id']\n",
    "        related_tickets_dict['related_tickets'] = [trained_data_corpus[i]['que_id'] for i in related_ticket_indices]\n",
    "        related_tickets_data.append(related_tickets_dict)\n",
    "    return related_tickets_data"
   ]
  },
  {
   "cell_type": "code",
   "execution_count": 23,
   "metadata": {},
   "outputs": [],
   "source": [
    "# def get_testing_data():\n",
    "#     raw = [\n",
    "#         {\"Title\":\"Python\",\n",
    "#             \"Body\": \"Python is interpreter languange\"\n",
    "#         },\n",
    "#         {\"Title\":\"Trump\",\n",
    "#           \"Body\":\"Mr. Trump became president after winning the political election. Though he lost the support of some republican friends, Trump is friends with President Putin\"\n",
    "#         },\n",
    "#         {\"Title\":\"Python\",\n",
    "#             \"Body\": \"Python is interpreter as well as scripting languange\"\n",
    "#             },\n",
    "#         {\"Title\":\"Tatya\",\n",
    "#             \"Body\": \"President Trump says Putin had no political interference is the election outcome. He says it was a witchhunt by political parties. He claimed President Putin is a friend who had nothing to do with the election\"\n",
    "#         },\n",
    "#         {\"Title\":\"Java\",\n",
    "#             \"Body\": \"Java is compiler language\"\n",
    "#         },\n",
    "#         {\"Title\":\"C\",\n",
    "#             \"Body\": \"C is Languange\"\n",
    "#         },\n",
    "#           ]\n",
    "#     df = pd.DataFrame(raw)\n",
    "#     df['Id'] =[i for i in range(len(raw))]\n",
    "\n",
    "#     # tickets_corpus = df.T.to_dict().values()\n",
    "#     df.head()\n",
    "#     new_tickets_corpus = df.to_dict('records')\n",
    "#     return new_tickets_corpus\n",
    "# # print(new_tickets_corpus)\n",
    "# # find top N related tickets\n",
    "# related_tickets_data = find_similar_tickets(2, new_tickets_corpus, \"stack_model.pickle\")\n",
    "# print(related_tickets_data)"
   ]
  },
  {
   "cell_type": "code",
   "execution_count": 21,
   "metadata": {},
   "outputs": [
    {
     "name": "stdout",
     "output_type": "stream",
     "text": [
      "Extracting and Cleaning documents...\n",
      "stack_model1.pickle\n"
     ]
    }
   ],
   "source": [
    "# get data\n",
    "tickets_corpus = get_data()\n",
    "# Train model\n",
    "model_name_with_path = save_tfidf_model(tickets_corpus)\n",
    "print(model_name_with_path)"
   ]
  },
  {
   "cell_type": "code",
   "execution_count": 25,
   "metadata": {},
   "outputs": [
    {
     "name": "stdout",
     "output_type": "stream",
     "text": [
      "[{'que_id': 0, 'related_tickets': [0, 2]}, {'que_id': 1, 'related_tickets': [1, 3]}, {'que_id': 2, 'related_tickets': [2, 0]}, {'que_id': 3, 'related_tickets': [3, 1]}, {'que_id': 4, 'related_tickets': [4, 5]}, {'que_id': 5, 'related_tickets': [5, 4]}]\n"
     ]
    }
   ],
   "source": [
    "related_tickets_data = find_similar_tickets(2, tickets_corpus, model_name_with_path)\n",
    "print(related_tickets_data)"
   ]
  },
  {
   "cell_type": "code",
   "execution_count": null,
   "metadata": {},
   "outputs": [],
   "source": []
  }
 ],
 "metadata": {
  "kernelspec": {
   "display_name": "Python 3",
   "language": "python",
   "name": "python3"
  },
  "language_info": {
   "codemirror_mode": {
    "name": "ipython",
    "version": 3
   },
   "file_extension": ".py",
   "mimetype": "text/x-python",
   "name": "python",
   "nbconvert_exporter": "python",
   "pygments_lexer": "ipython3",
   "version": "3.6.9"
  }
 },
 "nbformat": 4,
 "nbformat_minor": 4
}
