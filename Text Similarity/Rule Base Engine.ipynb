{
 "cells": [
  {
   "cell_type": "code",
   "execution_count": 5,
   "metadata": {},
   "outputs": [],
   "source": [
    "# pip install rule_engine"
   ]
  },
  {
   "cell_type": "code",
   "execution_count": 39,
   "metadata": {},
   "outputs": [],
   "source": [
    "import datetime\n",
    "import rule_engine\n",
    "comics = [\n",
    "  {\n",
    "    'title': 'LSIPUK2 CPU Starvation detected possible high GC and low heap memory PEM_MAJOR',\n",
    "    'incident type': 'IT alert',\n",
    "    'configuration_item': 'LQ05',\n",
    "    'created_date': datetime.date(2020, 4, 28)\n",
    "  },\n",
    " {\n",
    "    'title': 'LSIPUK2 CPU Starvation detected possible high GC and low heap memory PEM_MAJOR',\n",
    "    'incident type': 'IT alert',\n",
    "    'configuration_item': 'LQ05',\n",
    "    'created_date': datetime.date(2020, 4, 28)\n",
    "  },\n",
    "{\n",
    "    'title': 'LSIPUK2 CPU Starvation detected possible high GC and low heap memory PEM_MAJOR',\n",
    "    'incident type': 'IT alert',\n",
    "    'configuration_item': 'LQ06',\n",
    "    'created_date': datetime.date(2020, 4, 28)\n",
    "  },\n",
    "]"
   ]
  },
  {
   "cell_type": "code",
   "execution_count": 42,
   "metadata": {},
   "outputs": [],
   "source": [
    "rule = rule_engine.Rule(\n",
    "  # match books with a title starting with 'Captain '\n",
    "  'title =~~ \"PEM_MAJOR\" and configuration_item ==\"LQ05\"'\n",
    ")"
   ]
  },
  {
   "cell_type": "code",
   "execution_count": 43,
   "metadata": {},
   "outputs": [
    {
     "name": "stdout",
     "output_type": "stream",
     "text": [
      "[{'title': 'LSIPUK2 CPU Starvation detected possible high GC and low heap memory PEM_MAJOR', 'incident type': 'IT alert', 'configuration_item': 'LQ05', 'created_date': datetime.date(2020, 4, 28)}, {'title': 'LSIPUK2 CPU Starvation detected possible high GC and low heap memory PEM_MAJOR', 'incident type': 'IT alert', 'configuration_item': 'LQ05', 'created_date': datetime.date(2020, 4, 28)}]\n"
     ]
    }
   ],
   "source": [
    "d = rule.filter(comics)\n",
    "print([i for i in d])"
   ]
  },
  {
   "cell_type": "code",
   "execution_count": null,
   "metadata": {},
   "outputs": [],
   "source": [
    "rule = rule_engine.Rule(\n",
    "  # match books published by DC\n",
    "  'publisher == \"DC\"'\n",
    ")"
   ]
  },
  {
   "cell_type": "code",
   "execution_count": 9,
   "metadata": {},
   "outputs": [
    {
     "name": "stdout",
     "output_type": "stream",
     "text": [
      "True\n",
      "[{'title': 'Batman', 'publisher': 'DC', 'issue': 89, 'released': datetime.date(2020, 4, 28)}, {'title': 'Flash', 'publisher': 'DC', 'issue': 753, 'released': datetime.date(2020, 5, 5)}]\n"
     ]
    }
   ],
   "source": [
    "# check if the first object matches\n",
    "b_value = rule.matches(comics[0]) # => True\n",
    "print(b_value)\n",
    "\n",
    "# filter the iterable \"comics\" and return matching objects\n",
    "filter_data = rule.filter(comics) # => <generator object Rule.filter at 0x7f2bdafbe650>\n",
    "print([i for i in filter_data])"
   ]
  },
  {
   "cell_type": "code",
   "execution_count": null,
   "metadata": {},
   "outputs": [],
   "source": [
    "rule = rule_engine.Rule(\n",
    "  # match DC books released in May 2020\n",
    "  'released >= d\"2020-05-01\" and released < d\"2020-06-01\" and publisher == \"DC\"'\n",
    ")"
   ]
  },
  {
   "cell_type": "code",
   "execution_count": null,
   "metadata": {},
   "outputs": [],
   "source": [
    "rule = rule_engine.Rule(\n",
    "  # normalize potential variations in the publisher case such as 'Dc'\n",
    "  'publisher.as_upper == \"DC\"'\n",
    ")"
   ]
  },
  {
   "cell_type": "code",
   "execution_count": 3,
   "metadata": {},
   "outputs": [
    {
     "ename": "NameError",
     "evalue": "name 'rule_engine' is not defined",
     "output_type": "error",
     "traceback": [
      "\u001b[0;31m---------------------------------------------------------------------------\u001b[0m",
      "\u001b[0;31mNameError\u001b[0m                                 Traceback (most recent call last)",
      "\u001b[0;32m<ipython-input-3-735fc586d98e>\u001b[0m in \u001b[0;36m<module>\u001b[0;34m\u001b[0m\n\u001b[0;32m----> 1\u001b[0;31m rule = rule_engine.Rule(\n\u001b[0m\u001b[1;32m      2\u001b[0m   \u001b[0;31m# match books with a title starting with 'Captain '\u001b[0m\u001b[0;34m\u001b[0m\u001b[0;34m\u001b[0m\u001b[0;34m\u001b[0m\u001b[0m\n\u001b[1;32m      3\u001b[0m   \u001b[0;34m'title =~ \"Captain\\s\\S+\"'\u001b[0m\u001b[0;34m\u001b[0m\u001b[0;34m\u001b[0m\u001b[0m\n\u001b[1;32m      4\u001b[0m )\n",
      "\u001b[0;31mNameError\u001b[0m: name 'rule_engine' is not defined"
     ]
    }
   ],
   "source": [
    "rule = rule_engine.Rule(\n",
    "  # match books with a title starting with 'Captain '\n",
    "  'title =~ \"Captain\\s\\S+\"'\n",
    ")"
   ]
  },
  {
   "cell_type": "code",
   "execution_count": null,
   "metadata": {},
   "outputs": [],
   "source": []
  }
 ],
 "metadata": {
  "kernelspec": {
   "display_name": "Python 3",
   "language": "python",
   "name": "python3"
  },
  "language_info": {
   "codemirror_mode": {
    "name": "ipython",
    "version": 3
   },
   "file_extension": ".py",
   "mimetype": "text/x-python",
   "name": "python",
   "nbconvert_exporter": "python",
   "pygments_lexer": "ipython3",
   "version": "3.6.9"
  }
 },
 "nbformat": 4,
 "nbformat_minor": 4
}
