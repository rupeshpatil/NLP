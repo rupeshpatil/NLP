{
 "cells": [
  {
   "cell_type": "code",
   "execution_count": 118,
   "metadata": {},
   "outputs": [],
   "source": [
    "import math\n",
    "from sklearn.feature_extraction.text import TfidfVectorizer\n",
    "from sklearn.feature_extraction.text import CountVectorizer\n",
    "from sparse_dot_topn import awesome_cossim_topn\n",
    "\n"
   ]
  },
  {
   "cell_type": "code",
   "execution_count": 119,
   "metadata": {},
   "outputs": [],
   "source": [
    "documents = [\n",
    "\"The sky is blue\",\n",
    "\"The sun is bright\",\n",
    "\"The sun in the sky is bright\",\n",
    "\"We can see the shining sun, the bright sun\"]"
   ]
  },
  {
   "cell_type": "code",
   "execution_count": 129,
   "metadata": {},
   "outputs": [],
   "source": [
    "test_text = \"The sun in the sky is bright\""
   ]
  },
  {
   "cell_type": "code",
   "execution_count": 130,
   "metadata": {},
   "outputs": [],
   "source": [
    "count_vectorizer = CountVectorizer()"
   ]
  },
  {
   "cell_type": "code",
   "execution_count": 131,
   "metadata": {},
   "outputs": [
    {
     "name": "stdout",
     "output_type": "stream",
     "text": [
      "{'the': 9, 'sky': 7, 'is': 4, 'blue': 0, 'sun': 8, 'bright': 1, 'in': 3, 'we': 10, 'can': 2, 'see': 5, 'shining': 6}\n"
     ]
    }
   ],
   "source": [
    "vocabulary = count_vectorizer.fit(documents + [test_text]).vocabulary_\n",
    "print(vocabulary)"
   ]
  },
  {
   "cell_type": "code",
   "execution_count": 132,
   "metadata": {},
   "outputs": [],
   "source": [
    "# Convert a collection of raw documents to a matrix of TF-IDF features.\n",
    "tfidf_vectorizer = TfidfVectorizer(vocabulary=vocabulary)\n",
    "# Learn vocabulary and idf, return term-document matrix.\n",
    "test_tfidf_vector = tfidf_vectorizer.fit_transform([test_text])"
   ]
  },
  {
   "cell_type": "code",
   "execution_count": 133,
   "metadata": {},
   "outputs": [],
   "source": [
    "# this needs to be transposed before multiplying to achieve Cosine Similarity\n",
    "tfidf_vector = tfidf_vectorizer.fit_transform(documents).transpose()"
   ]
  },
  {
   "cell_type": "code",
   "execution_count": 136,
   "metadata": {},
   "outputs": [],
   "source": [
    "results = awesome_cossim_topn(test_tfidf_vector, tfidf_vector, 2, 0)\n"
   ]
  },
  {
   "cell_type": "code",
   "execution_count": 137,
   "metadata": {},
   "outputs": [
    {
     "name": "stdout",
     "output_type": "stream",
     "text": [
      "The sun in the sky is bright\n",
      "-------------------\n",
      "The sun in the sky is bright: 0.9732800618172203\n",
      "The sun is bright: 0.8066806285173703\n"
     ]
    }
   ],
   "source": [
    "print(test_text)\n",
    "print('-------------------')\n",
    "\n",
    "for index, i in enumerate(results.indices):\n",
    "    print('{}: {}'.format(documents[i], results.data[index]))"
   ]
  },
  {
   "cell_type": "markdown",
   "metadata": {},
   "source": [
    "######################  Testing      #############################"
   ]
  },
  {
   "cell_type": "code",
   "execution_count": 186,
   "metadata": {},
   "outputs": [],
   "source": [
    "documents = [\n",
    "\"The sky is blue\",\n",
    "\"The sun is bright\",\n",
    "\"The sun in the sky is bright\",\n",
    "\"We can see the shining sun, the bright sun\"]\n"
   ]
  },
  {
   "cell_type": "code",
   "execution_count": 187,
   "metadata": {},
   "outputs": [],
   "source": [
    "count_vectorizer = CountVectorizer(stop_words=\"english\")\n",
    "vocabulary = count_vectorizer.fit(documents).vocabulary_\n",
    "model = TfidfVectorizer(vocabulary=vocabulary)\n",
    "tfidf_vector = model.fit_transform(documents).transpose()"
   ]
  },
  {
   "cell_type": "code",
   "execution_count": 182,
   "metadata": {},
   "outputs": [],
   "source": []
  },
  {
   "cell_type": "code",
   "execution_count": 188,
   "metadata": {},
   "outputs": [
    {
     "name": "stdout",
     "output_type": "stream",
     "text": [
      "The sky is blue\n",
      "*************************\n",
      "The sky is blue: 0.9930738960272274\n",
      "The sun in the sky is bright: 0.46515556829761573\n"
     ]
    }
   ],
   "source": [
    "test_text = documents[0]\n",
    "# Learn vocabulary and idf, return term-document matrix.\n",
    "test_tfidf_vector = model.fit_transform([test_text])\n",
    "results = awesome_cossim_topn(test_tfidf_vector, tfidf_vendor, 2, 0)\n",
    "print(test_text)\n",
    "print(\"*************************\")\n",
    "for index, i in enumerate(results.indices):\n",
    "    print('{}: {}'.format(documents[i], results.data[index]))"
   ]
  },
  {
   "cell_type": "markdown",
   "metadata": {},
   "source": [
    "##################### Try out #########################"
   ]
  },
  {
   "cell_type": "code",
   "execution_count": 191,
   "metadata": {},
   "outputs": [],
   "source": [
    "documents = [\n",
    "\"The sky is blue\",\n",
    "\"The sun is bright\",\n",
    "\"The sun in the sky is bright\",\n",
    "\"We can see the shining sun, the bright sun\"]"
   ]
  },
  {
   "cell_type": "code",
   "execution_count": 192,
   "metadata": {},
   "outputs": [],
   "source": [
    "count_vectorizer = CountVectorizer(stop_words=\"english\")\n",
    "vocabulary = count_vectorizer.fit(documents).vocabulary_\n",
    "model = TfidfVectorizer(vocabulary=vocabulary)\n",
    "tfidf_vector = model.fit_transform(documents).transpose()"
   ]
  },
  {
   "cell_type": "code",
   "execution_count": 222,
   "metadata": {},
   "outputs": [
    {
     "name": "stdout",
     "output_type": "stream",
     "text": [
      "The sun is bright\n",
      "*************************\n",
      "We can see the shining sun, the bright sun: 0.78\n",
      "The sun in the sky is bright\n",
      "*************************\n",
      "The sun is bright: 0.82\n",
      "We can see the shining sun, the bright sun\n",
      "*************************\n",
      "The sun is bright: 0.87\n"
     ]
    }
   ],
   "source": [
    "from decimal import Decimal\n",
    "expected_percentage = round(Decimal(0.76),2)\n",
    "for i, test_text in  enumerate(documents):\n",
    "    # Learn vocabulary and idf, return term-document matrix.\n",
    "    test_tfidf_vector = model.fit_transform([test_text])\n",
    "    results = awesome_cossim_topn(test_tfidf_vector, tfidf_vendor, 2, 0)\n",
    "    \n",
    "#     print(results.indices)\n",
    "    for index, j in enumerate(results.indices):\n",
    "        if j != i:\n",
    "            score = round(Decimal(results.data[index]), 2)\n",
    "           \n",
    "            if score >= expected_percentage:\n",
    "                print(test_text, end='\\n')\n",
    "                print(\"*************************\")\n",
    "                print('{}: {}'.format(documents[j], score))"
   ]
  },
  {
   "cell_type": "code",
   "execution_count": null,
   "metadata": {},
   "outputs": [],
   "source": []
  }
 ],
 "metadata": {
  "kernelspec": {
   "display_name": "Python 3",
   "language": "python",
   "name": "python3"
  },
  "language_info": {
   "codemirror_mode": {
    "name": "ipython",
    "version": 3
   },
   "file_extension": ".py",
   "mimetype": "text/x-python",
   "name": "python",
   "nbconvert_exporter": "python",
   "pygments_lexer": "ipython3",
   "version": "3.6.9"
  }
 },
 "nbformat": 4,
 "nbformat_minor": 4
}
