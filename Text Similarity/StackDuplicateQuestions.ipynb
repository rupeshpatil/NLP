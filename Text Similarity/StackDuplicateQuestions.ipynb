{
 "cells": [
  {
   "cell_type": "code",
   "execution_count": 4,
   "metadata": {},
   "outputs": [],
   "source": [
    "import datetime\n",
    "import pickle\n",
    "import pandas as pd\n",
    "import re\n",
    "from nltk.corpus import stopwords\n",
    "from nltk.stem import WordNetLemmatizer\n",
    "from sklearn.feature_extraction.text import TfidfVectorizer\n",
    "from sklearn.metrics.pairwise import linear_kernel,cosine_similarity\n",
    "stops = set(stopwords.words(\"english\"))\n"
   ]
  },
  {
   "cell_type": "code",
   "execution_count": null,
   "metadata": {},
   "outputs": [],
   "source": []
  },
  {
   "cell_type": "code",
   "execution_count": 5,
   "metadata": {},
   "outputs": [],
   "source": [
    "# big_df = pd.read_csv(\"Questions.csv\" , chunksize=2000, encoding='latin-1')\n",
    "# i = 0\n",
    "# lst = []\n",
    "# for ite in big_df:\n",
    "#     if i == 1:\n",
    "#         break\n",
    "#     lst.append(ite)\n",
    "#     i +=1\n",
    "# testing_questions = pd.concat(lst)\n",
    "# testing_questions.to_csv(\"stack_train.csv\")\n",
    "\n",
    "# tickets_corpus = df.T.to_dict().values()\n",
    "# tickets_corpus = df.to_dict('records')\n",
    "\n",
    "\n",
    "\n",
    "# df = pd.read_csv(\"stack_train.csv\")\n",
    "raw = [\n",
    "    {\"Title\":\"Python\",\n",
    "        \"Body\": \"Python is interpreter languange\"\n",
    "        },\n",
    "        {\"Title\":\"Trump\",\n",
    "      \"Body\":\"Mr. Trump became president after winning the political election. Though he lost the support of some republican friends, Trump is friends with President Putin\"\n",
    "    },\n",
    "    {\"Title\":\"Python\",\n",
    "        \"Body\": \"Python is interpreter as well as scripting languange\"\n",
    "        },\n",
    "    {\"Title\":\"Tatya\",\n",
    "        \"Body\": \"President Trump says Putin had no political interference is the election outcome. He says it was a witchhunt by political parties. He claimed President Putin is a friend who had nothing to do with the election\"\n",
    "    },\n",
    "    {\"Title\":\"Java\",\n",
    "        \"Body\": \"Java is compiler language\"\n",
    "    },\n",
    "    {\"Title\":\"C\",\n",
    "        \"Body\": \"C is compiler Languange\"\n",
    "    },\n",
    "      \n",
    "      ]\n",
    "df = pd.DataFrame(raw)\n",
    "df['Id'] =[i for i in range(len(raw))]\n",
    "\n",
    "# tickets_corpus = df.T.to_dict().values()\n",
    "tickets_corpus = df.to_dict('records')\n"
   ]
  },
  {
   "cell_type": "code",
   "execution_count": 8,
   "metadata": {},
   "outputs": [
    {
     "ename": "NameError",
     "evalue": "name 'extract_clean_documents_from_corpus' is not defined",
     "output_type": "error",
     "traceback": [
      "\u001b[0;31m---------------------------------------------------------------------------\u001b[0m",
      "\u001b[0;31mNameError\u001b[0m                                 Traceback (most recent call last)",
      "\u001b[0;32m<ipython-input-8-2215a9c808ef>\u001b[0m in \u001b[0;36m<module>\u001b[0;34m\u001b[0m\n\u001b[1;32m      1\u001b[0m \u001b[0;31m# Train model\u001b[0m\u001b[0;34m\u001b[0m\u001b[0;34m\u001b[0m\u001b[0;34m\u001b[0m\u001b[0m\n\u001b[0;32m----> 2\u001b[0;31m \u001b[0msave_tfidf_model\u001b[0m\u001b[0;34m(\u001b[0m\u001b[0mtickets_corpus\u001b[0m\u001b[0;34m)\u001b[0m\u001b[0;34m\u001b[0m\u001b[0;34m\u001b[0m\u001b[0m\n\u001b[0m",
      "\u001b[0;32m<ipython-input-7-56a580a7658d>\u001b[0m in \u001b[0;36msave_tfidf_model\u001b[0;34m(tickets_corpus, output_file_name_without_extn)\u001b[0m\n\u001b[1;32m      1\u001b[0m \u001b[0;32mdef\u001b[0m \u001b[0msave_tfidf_model\u001b[0m\u001b[0;34m(\u001b[0m\u001b[0mtickets_corpus\u001b[0m\u001b[0;34m,\u001b[0m \u001b[0moutput_file_name_without_extn\u001b[0m\u001b[0;34m=\u001b[0m\u001b[0;34m\"stack_model\"\u001b[0m\u001b[0;34m)\u001b[0m\u001b[0;34m:\u001b[0m\u001b[0;34m\u001b[0m\u001b[0;34m\u001b[0m\u001b[0m\n\u001b[1;32m      2\u001b[0m     \u001b[0mtfidf_model\u001b[0m \u001b[0;34m=\u001b[0m \u001b[0mTfidfVectorizer\u001b[0m\u001b[0;34m(\u001b[0m\u001b[0;34m)\u001b[0m\u001b[0;34m\u001b[0m\u001b[0;34m\u001b[0m\u001b[0m\n\u001b[0;32m----> 3\u001b[0;31m     \u001b[0mlist_of_docs\u001b[0m\u001b[0;34m,\u001b[0m\u001b[0mtraining_ticket_corpus\u001b[0m \u001b[0;34m=\u001b[0m \u001b[0mextract_clean_documents_from_corpus\u001b[0m\u001b[0;34m(\u001b[0m\u001b[0mtickets_corpus\u001b[0m\u001b[0;34m)\u001b[0m\u001b[0;34m\u001b[0m\u001b[0;34m\u001b[0m\u001b[0m\n\u001b[0m\u001b[1;32m      4\u001b[0m     \u001b[0mtfidf_trainingset\u001b[0m \u001b[0;34m=\u001b[0m \u001b[0mtfidf_model\u001b[0m\u001b[0;34m.\u001b[0m\u001b[0mfit_transform\u001b[0m\u001b[0;34m(\u001b[0m\u001b[0mlist_of_docs\u001b[0m\u001b[0;34m)\u001b[0m\u001b[0;34m\u001b[0m\u001b[0;34m\u001b[0m\u001b[0m\n\u001b[1;32m      5\u001b[0m     \u001b[0mtrained_model_and_data_dict\u001b[0m \u001b[0;34m=\u001b[0m \u001b[0;34m{\u001b[0m\u001b[0;34m'model'\u001b[0m\u001b[0;34m:\u001b[0m\u001b[0mtfidf_model\u001b[0m\u001b[0;34m,\u001b[0m \u001b[0;34m'trained_data'\u001b[0m\u001b[0;34m:\u001b[0m\u001b[0mtfidf_trainingset\u001b[0m\u001b[0;34m,\u001b[0m \u001b[0;34m'corpus'\u001b[0m\u001b[0;34m:\u001b[0m\u001b[0mtraining_ticket_corpus\u001b[0m\u001b[0;34m}\u001b[0m\u001b[0;34m\u001b[0m\u001b[0;34m\u001b[0m\u001b[0m\n",
      "\u001b[0;31mNameError\u001b[0m: name 'extract_clean_documents_from_corpus' is not defined"
     ]
    }
   ],
   "source": [
    "# Train model\n",
    "save_tfidf_model(tickets_corpus)"
   ]
  },
  {
   "cell_type": "code",
   "execution_count": 9,
   "metadata": {},
   "outputs": [],
   "source": [
    "word_lem = WordNetLemmatizer()\n",
    "def clean_document(document_of_words):\n",
    "    document_of_words = document_of_words.lower()\n",
    "    # remove a number or decimal num followed by a space\n",
    "    # document_of_words = re.sub('\\\\b\\d+(?:\\.\\d+)?\\s*', '', document_of_words)\n",
    "    # remove rid, id fields\n",
    "    # document_of_words = re.sub('[rc]*id\\s*:*', '', document_of_words)\n",
    "    # remove all non-words (make a list)\n",
    "    document_of_words = re.split('\\W+', document_of_words)\n",
    "    # remove stop words\n",
    "    document_of_words = [w for w in document_of_words if not w in stops]\n",
    "    \n",
    "    # stem each word\n",
    "    stemmed_words = [word_lem.lemmatize(word) for word in document_of_words]\n",
    "    print(' '.join(stemmed_words))\n",
    "    return ' '.join(stemmed_words)"
   ]
  },
  {
   "cell_type": "code",
   "execution_count": 10,
   "metadata": {},
   "outputs": [],
   "source": [
    "# NOTE : Currently only picks title and summary as relevant data from a ticket.\n",
    "def extract_clean_documents_from_corpus(tickets_corpus):\n",
    "    print(\"Extracting and Cleaning documents...\")\n",
    "    final_corpus = []\n",
    "    list_of_docs = []\n",
    "    i = 0\n",
    "    for ticket_dict in tickets_corpus:\n",
    "        # print(ticket_dict)\n",
    "        document_of_words = (str(ticket_dict['Title'])+\" \"+str(ticket_dict['Body']))\n",
    "        #print(document_of_words)\n",
    "        doc_cleaned_text = clean_document(document_of_words)\n",
    "        # print(doc_cleaned_text)\n",
    "        list_of_docs.append(doc_cleaned_text)\n",
    "        final_corpus.append({'que_id':ticket_dict['Id'], 'words':doc_cleaned_text, 'index':i})\n",
    "        i+=1\n",
    "    return list_of_docs,final_corpus\n"
   ]
  },
  {
   "cell_type": "code",
   "execution_count": 7,
   "metadata": {},
   "outputs": [],
   "source": [
    "\n",
    "def save_tfidf_model(tickets_corpus, output_file_name_without_extn=\"stack_model\"):\n",
    "    tfidf_model = TfidfVectorizer()\n",
    "    list_of_docs,training_ticket_corpus = extract_clean_documents_from_corpus(tickets_corpus)\n",
    "    tfidf_trainingset = tfidf_model.fit_transform(list_of_docs)\n",
    "    trained_model_and_data_dict = {'model':tfidf_model, 'trained_data':tfidf_trainingset, 'corpus':training_ticket_corpus}\n",
    "    model_name_with_path = output_file_name_without_extn+\".pickle\"\n",
    "    pickle.dump(trained_model_and_data_dict, open(model_name_with_path, \"wb\"))\n",
    "    \n",
    "    return model_name_with_path\n"
   ]
  },
  {
   "cell_type": "code",
   "execution_count": null,
   "metadata": {},
   "outputs": [],
   "source": [
    "def load_model(model_file_path):\n",
    "    with open(model_file_path, 'rb') as pickled_file:\n",
    "        loaded_model_data = pickle.load(pickled_file)\n",
    "    return loaded_model_data['model'],loaded_model_data['trained_data'],loaded_model_data['corpus']"
   ]
  },
  {
   "cell_type": "code",
   "execution_count": 11,
   "metadata": {},
   "outputs": [],
   "source": [
    "def find_similar_tickets(num_of_related_tickets_to_return, input_tickets_corpus, model_file_path):\n",
    "    model, trained_data_vector, trained_data_corpus = load_model(model_file_path)\n",
    "#     print(\"trained corpus\",len(trained_data_corpus))\n",
    "    related_tickets_data = []\n",
    "    for ticket in input_tickets_corpus:\n",
    "        ticket_data = ticket['Title']\n",
    "        if ticket['Body'] is not None:\n",
    "            ticket_data += ticket['Body']\n",
    "        \n",
    "        # Clean the unwanted data\n",
    "        ticket_data = clean_document(ticket_data)\n",
    "        \n",
    "        # transform tickets data into vector\n",
    "        test_data_vector = model.transform([ticket_data])\n",
    "        \n",
    "        # Find the similarity using Cosine Kernel\n",
    "        cosine_similarities = cosine_similarity(test_data_vector, trained_data_vector).flatten()\n",
    "        related_ticket_indices = cosine_similarities.argsort()[:-num_of_related_tickets_to_return-1:-1]\n",
    "#         print(len(related_ticket_indices))\n",
    "        \n",
    "        \n",
    "        related_tickets_dict = {}\n",
    "        related_tickets_dict['que_id'] = ticket['Id']\n",
    "        related_tickets_dict['related_tickets'] = [trained_data_corpus[i]['que_id'] for i in related_ticket_indices]\n",
    "        related_tickets_data.append(related_tickets_dict)\n",
    "    return related_tickets_data"
   ]
  },
  {
   "cell_type": "code",
   "execution_count": null,
   "metadata": {},
   "outputs": [],
   "source": [
    "\n"
   ]
  },
  {
   "cell_type": "code",
   "execution_count": null,
   "metadata": {},
   "outputs": [],
   "source": [
    "#df = pd.read_csv(\"stack_train.csv\")\n",
    "raw = [\n",
    "    {\"Title\":\"Python\",\n",
    "        \"Body\": \"Python is interpreter languange\"\n",
    "    },\n",
    "    {\"Title\":\"Trump\",\n",
    "      \"Body\":\"Mr. Trump became president after winning the political election. Though he lost the support of some republican friends, Trump is friends with President Putin\"\n",
    "    },\n",
    "    {\"Title\":\"Python\",\n",
    "        \"Body\": \"Python is interpreter as well as scripting languange\"\n",
    "        },\n",
    "    {\"Title\":\"Tatya\",\n",
    "        \"Body\": \"President Trump says Putin had no political interference is the election outcome. He says it was a witchhunt by political parties. He claimed President Putin is a friend who had nothing to do with the election\"\n",
    "    },\n",
    "    {\"Title\":\"Java\",\n",
    "        \"Body\": \"Java is compiler language\"\n",
    "    },\n",
    "    {\"Title\":\"C\",\n",
    "        \"Body\": \"C is Languange\"\n",
    "    },\n",
    "      ]\n",
    "df = pd.DataFrame(raw)\n",
    "df['Id'] =[i for i in range(len(raw))]\n",
    " \n",
    "# tickets_corpus = df.T.to_dict().values()\n",
    "df.head()\n",
    "new_tickets_corpus = df.to_dict('records')\n",
    "# print(new_tickets_corpus)\n",
    "# find top N related tickets\n",
    "related_tickets_data = find_similar_tickets(2, new_tickets_corpus, \"stack_model.pickle\")\n",
    "print(related_tickets_data)"
   ]
  },
  {
   "cell_type": "code",
   "execution_count": null,
   "metadata": {},
   "outputs": [],
   "source": []
  },
  {
   "cell_type": "code",
   "execution_count": null,
   "metadata": {},
   "outputs": [],
   "source": [
    "text = [\"Python is interpreter Langaunge\"]\n",
    "\n",
    "other_texts = [\"Python is interpreter as well as scripting languange\"]\n",
    "\n",
    "def get_similar_texts(text, other_texts):\n",
    "    vect = TfidfVectorizer(min_df=2, stop_words='english')\n",
    "    tfidf = vect.fit_transform(text + other_texts)\n",
    "    similarity_vector = cosine_similarity(tfidf[0:1], tfidf)\n",
    "    return similarity_vector.flatten()\n",
    "\n",
    "get_similar_texts(text,other_texts)"
   ]
  },
  {
   "cell_type": "code",
   "execution_count": null,
   "metadata": {},
   "outputs": [],
   "source": []
  },
  {
   "cell_type": "code",
   "execution_count": null,
   "metadata": {},
   "outputs": [],
   "source": []
  }
 ],
 "metadata": {
  "kernelspec": {
   "display_name": "Python 3",
   "language": "python",
   "name": "python3"
  },
  "language_info": {
   "codemirror_mode": {
    "name": "ipython",
    "version": 3
   },
   "file_extension": ".py",
   "mimetype": "text/x-python",
   "name": "python",
   "nbconvert_exporter": "python",
   "pygments_lexer": "ipython3",
   "version": "3.6.9"
  }
 },
 "nbformat": 4,
 "nbformat_minor": 4
}
