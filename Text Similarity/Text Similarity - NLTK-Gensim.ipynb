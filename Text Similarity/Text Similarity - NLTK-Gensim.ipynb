{
 "cells": [
  {
   "cell_type": "code",
   "execution_count": 44,
   "metadata": {},
   "outputs": [],
   "source": [
    "from nltk.tokenize import word_tokenize, sent_tokenize\n",
    "import pandas as pd\n",
    "import gensim\n",
    "import numpy as np"
   ]
  },
  {
   "cell_type": "code",
   "execution_count": 2,
   "metadata": {},
   "outputs": [
    {
     "name": "stdout",
     "output_type": "stream",
     "text": [
      "['Mars', 'is', 'approximately', 'half', 'the', 'diameter', 'of', 'Earth', '.']\n"
     ]
    }
   ],
   "source": [
    "data = \"Mars is approximately half the diameter of Earth.\"\n",
    "print(word_tokenize(data))"
   ]
  },
  {
   "cell_type": "code",
   "execution_count": 5,
   "metadata": {},
   "outputs": [
    {
     "name": "stdout",
     "output_type": "stream",
     "text": [
      "['Mars is a cold desert world.', 'It is half the size of Earth.']\n"
     ]
    }
   ],
   "source": [
    "data = \"Mars is a cold desert world. It is half the size of Earth. \"\n",
    "print(sent_tokenize(data))\n"
   ]
  },
  {
   "cell_type": "code",
   "execution_count": 51,
   "metadata": {},
   "outputs": [],
   "source": [
    "def get_data():\n",
    "    raw = [\n",
    "        {\"Title\":\"Python\",\n",
    "            \"Body\": \"Python is interpreter languange\"\n",
    "        },\n",
    "        {\"Title\":\"Trump\",\n",
    "          \"Body\":\"Mr. Trump became president after winning the political election. Though he lost the support of some republican friends, Trump is friends with President Putin\"\n",
    "        },\n",
    "        {\"Title\":\"Python\",\n",
    "            \"Body\": \"Python is interpreter as well as scripting languange\"\n",
    "            },\n",
    "        {\"Title\":\"Tatya\",\n",
    "            \"Body\": \"President Trump says Putin had no political interference is the election outcome. He says it was a witchhunt by political parties. He claimed President Putin is a friend who had nothing to do with the election\"\n",
    "        },\n",
    "        {\"Title\":\"Java\",\n",
    "            \"Body\": \"Java is compiler language\"\n",
    "        },\n",
    "        {\"Title\":\"C\",\n",
    "            \"Body\": \"C is compiler Languange\"\n",
    "        },\n",
    "\n",
    "          ]\n",
    "   \n",
    "    df = pd.DataFrame(raw)\n",
    "    df['Id'] =[i for i in range(len(raw))]\n",
    "\n",
    "    # tickets_corpus = df.T.to_dict().values()\n",
    "    tickets_corpus = df.to_dict('records')\n",
    "    return tickets_corpus\n",
    "tickets_corpus = get_data()\n",
    "file_docs = []\n",
    "for ticket_dict in tickets_corpus:\n",
    "    file_docs.append(str(ticket_dict['Title'])+\" \"+str(ticket_dict['Body']))"
   ]
  },
  {
   "cell_type": "code",
   "execution_count": 75,
   "metadata": {},
   "outputs": [],
   "source": [
    " raw = \"\"\"Saturn is yellow planet.\"\"\"\n",
    "file_docs = sent_tokenize(raw)\n"
   ]
  },
  {
   "cell_type": "code",
   "execution_count": 76,
   "metadata": {},
   "outputs": [
    {
     "data": {
      "text/plain": [
       "[['saturn', 'is', 'yellow', 'planet', '.']]"
      ]
     },
     "execution_count": 76,
     "metadata": {},
     "output_type": "execute_result"
    }
   ],
   "source": [
    "gen_docs = [[w.lower() for w in word_tokenize(text)] \n",
    "                for text in file_docs]\n",
    "gen_docs"
   ]
  },
  {
   "cell_type": "code",
   "execution_count": 77,
   "metadata": {},
   "outputs": [
    {
     "name": "stdout",
     "output_type": "stream",
     "text": [
      "{'.': 0, 'is': 1, 'planet': 2, 'saturn': 3, 'yellow': 4}\n",
      "[[(0, 1), (1, 1), (2, 1), (3, 1), (4, 1)]]\n"
     ]
    }
   ],
   "source": [
    "dictionary = gensim.corpora.Dictionary(gen_docs)\n",
    "print(dictionary.token2id)\n",
    "corpus = [dictionary.doc2bow(gen_doc) for gen_doc in gen_docs]\n",
    "print(corpus)\n",
    "\n",
    "tf_idf = gensim.models.TfidfModel(corpus)\n",
    "sims = gensim.similarities.Similarity('workdir/',tf_idf[corpus],\n",
    "                                        num_features=len(dictionary))"
   ]
  },
  {
   "cell_type": "code",
   "execution_count": 56,
   "metadata": {},
   "outputs": [
    {
     "data": {
      "text/plain": [
       "<gensim.similarities.docsim.Similarity at 0x7f77c7d817f0>"
      ]
     },
     "execution_count": 56,
     "metadata": {},
     "output_type": "execute_result"
    }
   ],
   "source": [
    "sims"
   ]
  },
  {
   "cell_type": "code",
   "execution_count": 78,
   "metadata": {},
   "outputs": [
    {
     "name": "stdout",
     "output_type": "stream",
     "text": [
      "{'.': 0, 'is': 1, 'planet': 2, 'saturn': 3, 'yellow': 4}\n",
      "[[(1, 1), (2, 1), (3, 1), (4, 1)]]\n",
      "Comparing Result: [[0.]]\n",
      "0.0\n",
      "1\n",
      "avg: 0.0\n"
     ]
    }
   ],
   "source": [
    "avg_sims = []\n",
    "new_text = \"\"\"Saturn is yellow planet\"\"\"\n",
    "file2_docs = sent_tokenize(new_text)\n",
    "for line in file2_docs:\n",
    "    query_doc = [[w.lower() for w in word_tokenize(line)]]\n",
    "    print(dictionary.token2id)\n",
    "    query_doc_bow = [dictionary.doc2bow(gen_doc) for gen_doc in query_doc]\n",
    "    print(query_doc_bow)\n",
    "    query_doc_tf_idf = tf_idf[query_doc_bow]\n",
    "    print('Comparing Result:', sims[query_doc_tf_idf]) \n",
    "    sum_of_sims =(np.sum(sims[query_doc_tf_idf], dtype=np.float32))\n",
    "    print(sum_of_sims)\n",
    "    print(len(file_docs))\n",
    "    avg = sum_of_sims / len(file_docs)\n",
    "    print(f'avg: {sum_of_sims / len(file_docs)}')\n",
    "    avg_sims.append(avg)\n"
   ]
  },
  {
   "cell_type": "code",
   "execution_count": 58,
   "metadata": {},
   "outputs": [
    {
     "name": "stdout",
     "output_type": "stream",
     "text": [
      "0.0\n"
     ]
    }
   ],
   "source": [
    "total_avg = np.sum(avg_sims, dtype=np.float)\n",
    "print(total_avg)\n",
    "percentage_of_similarity = round(float(total_avg) * 100)\n",
    "if percentage_of_similarity >= 100:\n",
    "    percentage_of_similarity = 100"
   ]
  },
  {
   "cell_type": "code",
   "execution_count": null,
   "metadata": {},
   "outputs": [],
   "source": []
  }
 ],
 "metadata": {
  "kernelspec": {
   "display_name": "Python 3",
   "language": "python",
   "name": "python3"
  },
  "language_info": {
   "codemirror_mode": {
    "name": "ipython",
    "version": 3
   },
   "file_extension": ".py",
   "mimetype": "text/x-python",
   "name": "python",
   "nbconvert_exporter": "python",
   "pygments_lexer": "ipython3",
   "version": "3.6.9"
  }
 },
 "nbformat": 4,
 "nbformat_minor": 4
}
