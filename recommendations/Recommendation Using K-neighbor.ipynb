{
 "cells": [
  {
   "cell_type": "code",
   "execution_count": 8,
   "metadata": {},
   "outputs": [],
   "source": [
    "import numpy as np\n",
    "import pandas as pd\n",
    "import matplotlib.pyplot as plt\n",
    "from sklearn.neighbors import NearestNeighbors\n",
    "from scipy.sparse import csr_matrix\n",
    "import seaborn as sns\n",
    "sns.set_style('white')\n",
    "%matplotlib inline"
   ]
  },
  {
   "cell_type": "code",
   "execution_count": 6,
   "metadata": {},
   "outputs": [
    {
     "data": {
      "text/html": [
       "<div>\n",
       "<style scoped>\n",
       "    .dataframe tbody tr th:only-of-type {\n",
       "        vertical-align: middle;\n",
       "    }\n",
       "\n",
       "    .dataframe tbody tr th {\n",
       "        vertical-align: top;\n",
       "    }\n",
       "\n",
       "    .dataframe thead th {\n",
       "        text-align: right;\n",
       "    }\n",
       "</style>\n",
       "<table border=\"1\" class=\"dataframe\">\n",
       "  <thead>\n",
       "    <tr style=\"text-align: right;\">\n",
       "      <th></th>\n",
       "      <th>userId</th>\n",
       "      <th>movieId</th>\n",
       "      <th>rating</th>\n",
       "      <th>title</th>\n",
       "      <th>totalRatingCount</th>\n",
       "    </tr>\n",
       "  </thead>\n",
       "  <tbody>\n",
       "    <tr>\n",
       "      <th>0</th>\n",
       "      <td>1</td>\n",
       "      <td>1</td>\n",
       "      <td>4.0</td>\n",
       "      <td>Toy Story (1995)</td>\n",
       "      <td>215</td>\n",
       "    </tr>\n",
       "    <tr>\n",
       "      <th>1</th>\n",
       "      <td>5</td>\n",
       "      <td>1</td>\n",
       "      <td>4.0</td>\n",
       "      <td>Toy Story (1995)</td>\n",
       "      <td>215</td>\n",
       "    </tr>\n",
       "    <tr>\n",
       "      <th>2</th>\n",
       "      <td>7</td>\n",
       "      <td>1</td>\n",
       "      <td>4.5</td>\n",
       "      <td>Toy Story (1995)</td>\n",
       "      <td>215</td>\n",
       "    </tr>\n",
       "    <tr>\n",
       "      <th>3</th>\n",
       "      <td>15</td>\n",
       "      <td>1</td>\n",
       "      <td>2.5</td>\n",
       "      <td>Toy Story (1995)</td>\n",
       "      <td>215</td>\n",
       "    </tr>\n",
       "    <tr>\n",
       "      <th>4</th>\n",
       "      <td>17</td>\n",
       "      <td>1</td>\n",
       "      <td>4.5</td>\n",
       "      <td>Toy Story (1995)</td>\n",
       "      <td>215</td>\n",
       "    </tr>\n",
       "  </tbody>\n",
       "</table>\n",
       "</div>"
      ],
      "text/plain": [
       "   userId  movieId  rating             title  totalRatingCount\n",
       "0       1        1     4.0  Toy Story (1995)               215\n",
       "1       5        1     4.0  Toy Story (1995)               215\n",
       "2       7        1     4.5  Toy Story (1995)               215\n",
       "3      15        1     2.5  Toy Story (1995)               215\n",
       "4      17        1     4.5  Toy Story (1995)               215"
      ]
     },
     "execution_count": 6,
     "metadata": {},
     "output_type": "execute_result"
    }
   ],
   "source": [
    "def get_data():\n",
    "    column_names = ['user_id', 'item_id', 'rating', 'timestamp']\n",
    "    movies_df = pd.read_csv('data/movies.csv', usecols=['movieId','title'])\n",
    "    rating_df = pd.read_csv(\"data/ratings.csv\", usecols = ['userId', 'movieId', 'rating'])\n",
    "    # Merging both data using MovieId\n",
    "    movie_data = pd.merge(rating_df,movies_df,on='movieId')\n",
    "    # Drop na value rows\n",
    "    combine_movie_rating = movie_data.dropna(axis = 0, subset = ['title'])\n",
    "    # Get movie rating count by title(movie name)\n",
    "    movie_ratingCount = combine_movie_rating.groupby(by = ['title'])['rating'].count().reset_index()\n",
    "    # Renaming rating column as totalRating count\n",
    "    movie_ratingCount = movie_ratingCount.rename(columns = {'rating': 'totalRatingCount'})[['title', 'totalRatingCount']]\n",
    "    # merged rating count dataframe\n",
    "    rating_with_totalRatingCount = combine_movie_rating.merge(movie_ratingCount, left_on = 'title', right_on = 'title', how = 'left')\n",
    "\n",
    "    return rating_with_totalRatingCount\n",
    "movie_data = get_data()\n",
    "movie_data.head()"
   ]
  },
  {
   "cell_type": "code",
   "execution_count": 13,
   "metadata": {},
   "outputs": [],
   "source": [
    "def create_recommendation_model(rating_with_totalRatingCount):\n",
    "    # Taking threshold by observing data\n",
    "    popularity_threshold = 50\n",
    "    # Filtering data using threshold\n",
    "    rating_popular_movie= rating_with_totalRatingCount.query('totalRatingCount >= @popularity_threshold')\n",
    "    # First lets create a Pivot table\n",
    "    movie_features_df = rating_popular_movie.pivot_table(index='title',columns='userId',values='rating').fillna(0)\n",
    "    \n",
    "    # Creating matrix using pivot table values\n",
    "    movie_features_df_matrix = csr_matrix(movie_features_df.values)\n",
    "    # creating model of NearestNeighbor using cosine similarity\n",
    "    model_knn = NearestNeighbors(metric = 'cosine', algorithm = 'brute')\n",
    "    model_knn.fit(movie_features_df_matrix)\n",
    "    return model_knn, movie_features_df\n",
    "\n",
    "model, movie_features_df = create_recommendation_model(movie_data)"
   ]
  },
  {
   "cell_type": "code",
   "execution_count": 14,
   "metadata": {},
   "outputs": [],
   "source": [
    "def get_recommendation(model_knn, movie_features_df):\n",
    "    query_index = np.random.choice(movie_features_df.shape[0])\n",
    "    distances, indices = model_knn.kneighbors(movie_features_df.iloc[query_index,:].values.reshape(1, -1), n_neighbors = 6)\n",
    "    for i in range(0, len(distances.flatten())):\n",
    "        if i == 0:\n",
    "            print('Recommendations for {0}:\\n'.format(movie_features_df.index[query_index]))\n",
    "        else:\n",
    "            print('{0}: {1}, with distance of {2}:'.format(i, movie_features_df.index[indices.flatten()[i]], distances.flatten()[i]))"
   ]
  },
  {
   "cell_type": "code",
   "execution_count": 15,
   "metadata": {},
   "outputs": [
    {
     "name": "stdout",
     "output_type": "stream",
     "text": [
      "Recommendations for Men in Black II (a.k.a. MIIB) (a.k.a. MIB 2) (2002):\n",
      "\n",
      "1: X-Men: The Last Stand (2006), with distance of 0.4120607788570363:\n",
      "2: I, Robot (2004), with distance of 0.41606357553095485:\n",
      "3: Bruce Almighty (2003), with distance of 0.4163162506979303:\n",
      "4: Star Wars: Episode III - Revenge of the Sith (2005), with distance of 0.4682346425000936:\n",
      "5: Shrek 2 (2004), with distance of 0.46941838224020926:\n"
     ]
    }
   ],
   "source": [
    "get_recommendation(model, movie_features_df)"
   ]
  },
  {
   "cell_type": "code",
   "execution_count": null,
   "metadata": {},
   "outputs": [],
   "source": []
  },
  {
   "cell_type": "code",
   "execution_count": null,
   "metadata": {},
   "outputs": [],
   "source": []
  }
 ],
 "metadata": {
  "kernelspec": {
   "display_name": "Python 3",
   "language": "python",
   "name": "python3"
  },
  "language_info": {
   "codemirror_mode": {
    "name": "ipython",
    "version": 3
   },
   "file_extension": ".py",
   "mimetype": "text/x-python",
   "name": "python",
   "nbconvert_exporter": "python",
   "pygments_lexer": "ipython3",
   "version": "3.6.9"
  }
 },
 "nbformat": 4,
 "nbformat_minor": 4
}
