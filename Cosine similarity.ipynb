{
 "cells": [
  {
   "cell_type": "code",
   "execution_count": 7,
   "metadata": {},
   "outputs": [],
   "source": [
    "# Define the documents\n",
    "doc_trump = \"Mr. Trump became president after winning the political election. Though he lost the support of some republican friends, Trump is friends with President Putin\"\n",
    "\n",
    "doc_election = \"President Trump says Putin had no political interference is the election outcome. He says it was a witchhunt by political parties. He claimed President Putin is a friend who had nothing to do with the election\"\n",
    "\n",
    "doc_putin = \"Post elections, Vladimir Putin became President of Russia. President Putin had served as the Prime Minister earlier in his political career\"\n",
    "\n",
    "documents = [doc_trump, doc_election]\n",
    "\n"
   ]
  },
  {
   "cell_type": "code",
   "execution_count": 9,
   "metadata": {},
   "outputs": [
    {
     "data": {
      "text/html": [
       "<div>\n",
       "<style scoped>\n",
       "    .dataframe tbody tr th:only-of-type {\n",
       "        vertical-align: middle;\n",
       "    }\n",
       "\n",
       "    .dataframe tbody tr th {\n",
       "        vertical-align: top;\n",
       "    }\n",
       "\n",
       "    .dataframe thead th {\n",
       "        text-align: right;\n",
       "    }\n",
       "</style>\n",
       "<table border=\"1\" class=\"dataframe\">\n",
       "  <thead>\n",
       "    <tr style=\"text-align: right;\">\n",
       "      <th></th>\n",
       "      <th>after</th>\n",
       "      <th>became</th>\n",
       "      <th>by</th>\n",
       "      <th>claimed</th>\n",
       "      <th>do</th>\n",
       "      <th>election</th>\n",
       "      <th>friend</th>\n",
       "      <th>friends</th>\n",
       "      <th>had</th>\n",
       "      <th>he</th>\n",
       "      <th>...</th>\n",
       "      <th>support</th>\n",
       "      <th>the</th>\n",
       "      <th>though</th>\n",
       "      <th>to</th>\n",
       "      <th>trump</th>\n",
       "      <th>was</th>\n",
       "      <th>who</th>\n",
       "      <th>winning</th>\n",
       "      <th>witchhunt</th>\n",
       "      <th>with</th>\n",
       "    </tr>\n",
       "  </thead>\n",
       "  <tbody>\n",
       "    <tr>\n",
       "      <th>doc_trump</th>\n",
       "      <td>0.208007</td>\n",
       "      <td>0.208007</td>\n",
       "      <td>0.000000</td>\n",
       "      <td>0.000000</td>\n",
       "      <td>0.000000</td>\n",
       "      <td>0.147999</td>\n",
       "      <td>0.000000</td>\n",
       "      <td>0.416014</td>\n",
       "      <td>0.000000</td>\n",
       "      <td>0.147999</td>\n",
       "      <td>...</td>\n",
       "      <td>0.208007</td>\n",
       "      <td>0.295997</td>\n",
       "      <td>0.208007</td>\n",
       "      <td>0.000000</td>\n",
       "      <td>0.295997</td>\n",
       "      <td>0.000000</td>\n",
       "      <td>0.000000</td>\n",
       "      <td>0.208007</td>\n",
       "      <td>0.000000</td>\n",
       "      <td>0.147999</td>\n",
       "    </tr>\n",
       "    <tr>\n",
       "      <th>doc_election</th>\n",
       "      <td>0.000000</td>\n",
       "      <td>0.000000</td>\n",
       "      <td>0.163984</td>\n",
       "      <td>0.163984</td>\n",
       "      <td>0.163984</td>\n",
       "      <td>0.233353</td>\n",
       "      <td>0.163984</td>\n",
       "      <td>0.000000</td>\n",
       "      <td>0.327969</td>\n",
       "      <td>0.233353</td>\n",
       "      <td>...</td>\n",
       "      <td>0.000000</td>\n",
       "      <td>0.233353</td>\n",
       "      <td>0.000000</td>\n",
       "      <td>0.163984</td>\n",
       "      <td>0.116676</td>\n",
       "      <td>0.163984</td>\n",
       "      <td>0.163984</td>\n",
       "      <td>0.000000</td>\n",
       "      <td>0.163984</td>\n",
       "      <td>0.116676</td>\n",
       "    </tr>\n",
       "  </tbody>\n",
       "</table>\n",
       "<p>2 rows × 36 columns</p>\n",
       "</div>"
      ],
      "text/plain": [
       "                 after    became        by   claimed        do  election  \\\n",
       "doc_trump     0.208007  0.208007  0.000000  0.000000  0.000000  0.147999   \n",
       "doc_election  0.000000  0.000000  0.163984  0.163984  0.163984  0.233353   \n",
       "\n",
       "                friend   friends       had        he  ...   support       the  \\\n",
       "doc_trump     0.000000  0.416014  0.000000  0.147999  ...  0.208007  0.295997   \n",
       "doc_election  0.163984  0.000000  0.327969  0.233353  ...  0.000000  0.233353   \n",
       "\n",
       "                though        to     trump       was       who   winning  \\\n",
       "doc_trump     0.208007  0.000000  0.295997  0.000000  0.000000  0.208007   \n",
       "doc_election  0.000000  0.163984  0.116676  0.163984  0.163984  0.000000   \n",
       "\n",
       "              witchhunt      with  \n",
       "doc_trump      0.000000  0.147999  \n",
       "doc_election   0.163984  0.116676  \n",
       "\n",
       "[2 rows x 36 columns]"
      ]
     },
     "execution_count": 9,
     "metadata": {},
     "output_type": "execute_result"
    }
   ],
   "source": [
    "# Scikit Learn\n",
    "from sklearn.feature_extraction.text import CountVectorizer, TfidfVectorizer\n",
    "import pandas as pd\n",
    "\n",
    "# Create the Document Term Matrix\n",
    "# count_vectorizer = CountVectorizer(stop_words='english')\n",
    "count_vectorizer = TfidfVectorizer()\n",
    "sparse_matrix = count_vectorizer.fit_transform(documents)\n",
    "\n",
    "# OPTIONAL: Convert Sparse Matrix to Pandas Dataframe if you want to see the word frequencies.\n",
    "doc_term_matrix = sparse_matrix.todense()\n",
    "df = pd.DataFrame(doc_term_matrix, \n",
    "                  columns=count_vectorizer.get_feature_names(), \n",
    "                  index=['doc_trump', 'doc_election'])\n",
    "df"
   ]
  },
  {
   "cell_type": "code",
   "execution_count": 10,
   "metadata": {},
   "outputs": [
    {
     "name": "stdout",
     "output_type": "stream",
     "text": [
      "[[1.         0.36262628]\n",
      " [0.36262628 1.        ]]\n"
     ]
    }
   ],
   "source": [
    "from sklearn.metrics.pairwise import cosine_similarity\n",
    "print(cosine_similarity(df, df))"
   ]
  }
 ],
 "metadata": {
  "kernelspec": {
   "display_name": "Python 3",
   "language": "python",
   "name": "python3"
  },
  "language_info": {
   "codemirror_mode": {
    "name": "ipython",
    "version": 3
   },
   "file_extension": ".py",
   "mimetype": "text/x-python",
   "name": "python",
   "nbconvert_exporter": "python",
   "pygments_lexer": "ipython3",
   "version": "3.6.9"
  }
 },
 "nbformat": 4,
 "nbformat_minor": 4
}
